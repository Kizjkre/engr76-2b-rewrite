{
 "cells": [
  {
   "cell_type": "markdown",
   "id": "6da3b4680f86aa04",
   "metadata": {},
   "source": [
    "# ENGR 76 Project 2b: Filtering and Frequency-division multiplexing\n",
    "\n",
    "_Due: yesterday_\n",
    "\n",
    "<font color='blue'>**YOUR STANFORD EMAIL:**</font>     @stanford.edu"
   ]
  },
  {
   "cell_type": "markdown",
   "id": "21e79cd6c8fe73e3",
   "metadata": {},
   "source": [
    "If your transmission is the only sound in the room, then the receiver can just listen to it and decode it to recover the message, as you did in Project 2a. But in reality, we never have such a happy monopoly on the transmission environment. Rather, the receiver will have to deal with other sounds, like other background noise, conversations or other transmitters. Any sound that isn't the transmitted signal is called _noise_. This week, we'll explore how filtering can be used to remove noise and extract the signal.\n",
    "\n",
    "<div class=\"alert alert-info\">\n",
    "    Wireless communication, including 4G, Wi-Fi, Bluetooth, FM radio and GPS signals, has the same problem—both from other wireless transmitters and from other sources of electromagnetic energy. The techniques they use to extract their signal of interest are similar.\n",
    "</div>\n",
    "\n",
    "In this project, you will:\n",
    "\n",
    "- Establish how to work with the FFT as a practical approximation for a signal's spectrum\n",
    "- Inspect the spectra of your transmitted OOK signal, and your received one, with and without noise\n",
    "- Apply filtering to the received noisy signal and show that filtering improves the bit error rate\n",
    "- Investigate how different frequency bands can be used for independent transmissions\n",
    "- Implement frequency multiplexing to increase the data rate of your system\n",
    "- Consider how frequency multiplexing can be used to allow several systems to transmit in the same space\n",
    "\n",
    "<div class=\"alert alert-info\" style=\"color:black;\">\n",
    "    <p>\n",
    "        <strong>Where we are in Project 2.</strong>\n",
    "    </p>\n",
    "    <p style=\"text-align: center;\">\n",
    "        <img src=\"img/proj2b-where.png\" style=\"height: 84px;\" />\n",
    "    </p>\n",
    "</div>\n",
    "\n",
    "<div class=\"alert alert-info\" style=\"color: black;\"><strong>Answer formatting:</strong> As usual, we've left <code>&gt; YOUR ANSWER HERE</code> in cells where we want you to type in answer. To do so, double-click the cell, and please leave the <code>&gt;</code> there (and start each paragraph with <code>&gt;</code>) so that the blockquote bar on the left remains next to your answer.</div>\n",
    "\n",
    "<div class=\"alert alert-danger\">\n",
    "    Same precautions apply as last week: This makes sounds, so avoid doing this late at night or in any environment that might annoy other people.\n",
    "</div>\n",
    "\n",
    "<div class=\"alert alert-warning\">Throughout Project 2, you may reuse some recorded signals across different code cells. To prevent loading incorrect signals, <b>pay additional attention to your variable names to ensure they are not accidentally overwritten.</b></div>\n"
   ]
  },
  {
   "cell_type": "code",
   "execution_count": null,
   "id": "50ea47016c17014e",
   "metadata": {
    "ExecuteTime": {
     "end_time": "2025-04-18T20:39:03.121780Z",
     "start_time": "2025-04-18T20:38:57.898166Z"
    }
   },
   "outputs": [],
   "source": [
    "# Packages you should already have installed, to be imported:\n",
    "\n",
    "import numpy as np\n",
    "\n",
    "π = np.pi\n",
    "\n",
    "import matplotlib.pyplot as plt\n",
    "\n",
    "plt.rcParams[\"figure.figsize\"] = (20, 5)  # make the graphs wider\n",
    "\n",
    "from numpy.random import default_rng\n",
    "\n",
    "rng = default_rng()\n",
    "\n",
    "# setting up the channels\n",
    "save_wav = False #SET TO TRUE IF AUDIO IS NOT WORKING\n",
    "from channel import Channel, save\n",
    "from functools import partial\n",
    "\n",
    "channel = Channel()\n",
    "channel0 = partial(channel.transmit, save_wav=save_wav)\n",
    "channel1 = partial(channel.transmit, talking=True, save_wav=save_wav)\n",
    "channel2 = partial(channel.transmit, clap=True, save_wav=save_wav)\n",
    "\n",
    "import IPython.display as ipd"
   ]
  },
  {
   "cell_type": "markdown",
   "id": "3e828f757c79aaad",
   "metadata": {},
   "source": [
    "# Part 1: Getting to know the FFT\n",
    "\n",
    "The _fast Fourier transform_ (FFT) is an algorithm for the _discrete Fourier transform_ (DFT), which is a version of the Fourier transform suitable for discrete-time, finite-length signals.\n",
    "\n",
    "<div class=\"alert alert-info\"><strong>Note on terminology:</strong> The FFT is a <em>method of computing</em> the DFT, so mathematically, it makes more sense to think of this as working with the DFT. But because the FFT is by far the most common way of computing the DFT, engineers often colloquially just talk about the FFT, and use the two terms interchangeably.</div>\n",
    "\n",
    "Technically, the FFT works on discrete-time signals,\n",
    "$$x[n], \\quad n = 0, \\dots, N-1,$$\n",
    "and returns a frequency-domain representation that is one more than half the length. We can call this $x_\\mathcal F$:\n",
    "$$x_\\mathcal{F}[n], \\quad n = 0, \\dots, \\lfloor N/2 \\rfloor.$$\n",
    "\n",
    "However, we often want to use the FFT as an **approximation** to the continuous-time Fourier transform. For example, say that $x[n]$ was a sampled version of a continuous-time signal $\\tilde x(t)$ at sampling frequency $f_s$ ,\n",
    "\n",
    "$$x[n] = \\tilde x(t[n]), \\qquad t[n] = \\frac{n}{f_s}.$$\n",
    "\n",
    "Recall from last week that to plot this signal using `plt.plot()` in a way that makes sense for “the real world”, we plot the time vector $t[n]$ against the signal vector $x[n]$. Similarly, when working with the FFT $x_\\mathcal{F}[n]$, we'll want to plot it against some sort of “frequency vector”\n",
    "$$f[n], \\quad n = 0, \\dots, \\lfloor N/2 \\rfloor.$$\n",
    "\n",
    "Our goal in this part is to establish how to think about what $f[n]$ should be.\n",
    "\n",
    "### FFT of a pure tone\n",
    "\n",
    "Let's start with a **pure tone**."
   ]
  },
  {
   "cell_type": "code",
   "execution_count": null,
   "id": "82fcae9aff851bef",
   "metadata": {
    "ExecuteTime": {
     "end_time": "2025-04-18T20:39:03.327764Z",
     "start_time": "2025-04-18T20:39:03.136875Z"
    }
   },
   "outputs": [],
   "source": [
    "# feel free to play with these numbers and then re-run subsequent cells\n",
    "tmax = 0.1  # end of signal in \"real\" time (seconds)\n",
    "fs = 44100  # sampling frequency\n",
    "f = 1000  # frequency of tone\n",
    "t = np.arange(0, tmax, 1 / fs)  # time vector t[n]\n",
    "x = np.sin(2 * π * f * t)  # signal vector x[n]\n",
    "\n",
    "# plot signal in time domain\n",
    "plt.plot(t, x)\n",
    "plt.xlabel('Continuous-time variable, t', size=18)\n",
    "plt.ylabel('Continuous x(t)', size=18)\n",
    "plt.show()"
   ]
  },
  {
   "cell_type": "markdown",
   "id": "20e4861b4a8a45c9",
   "metadata": {},
   "source": [
    "We can take the FFT using the `rfft()` function, which is in the the `scipy.fft` module."
   ]
  },
  {
   "cell_type": "code",
   "execution_count": null,
   "id": "b6039569728bec6a",
   "metadata": {
    "ExecuteTime": {
     "end_time": "2025-04-18T20:39:03.351556Z",
     "start_time": "2025-04-18T20:39:03.348067Z"
    }
   },
   "outputs": [],
   "source": [
    "# import relevant functions\n",
    "from scipy.fft import rfft, irfft, rfftfreq"
   ]
  },
  {
   "cell_type": "markdown",
   "id": "a1c9a7a99e692c5f",
   "metadata": {},
   "source": [
    "If you inspect the spectrum `rfft(x)`, you'll notice that its entries are complex (_i.e._, have real and imaginary parts). To visualize it effectively as a plot, it's common to take its absolute value (also known as its modulus). That is, instead of plotting $x_\\mathcal{F}[n]$ (called `x_fft` below), we instead plot $|x_\\mathcal{F}[n]|$."
   ]
  },
  {
   "cell_type": "code",
   "execution_count": null,
   "id": "c13c57a260954758",
   "metadata": {
    "ExecuteTime": {
     "end_time": "2025-04-18T20:39:03.479428Z",
     "start_time": "2025-04-18T20:39:03.407861Z"
    }
   },
   "outputs": [],
   "source": [
    "x_fft = rfft(x)\n",
    "plt.plot(np.abs(x_fft))\n",
    "plt.ylabel('Amplitude', size=18)\n",
    "plt.show()"
   ]
  },
  {
   "cell_type": "markdown",
   "id": "483282aa4a86a54b",
   "metadata": {},
   "source": [
    "One problem: The above code plots with respect to frequency \"indices\" $n$, which aren't very meaningful here. That spike should be at whatever `f` was set to above.\n",
    "\n",
    "<div class=\"alert alert-warning\">This is a key distinction between our work in this project, and our study of the DCT for images in Project 1b. In Project 1b, the “duration” of the signal (<i>i.e.</i> size of the image) had no physical meaning, so we just normalized it to 1. Here, time is <em>measured in seconds</em> and frequency is <em>expressed in Hertz</em> (the reciprocal of seconds), so we have to be more precise with our handling of frequencies.</div>\n",
    "\n",
    "Whenever we need to plot the FFT of a signal, we also need to generate a vector of frequencies, so that the horizontal axis is scaled appropriately. To establish the scaling, note the following:\n",
    "- The number of elements in the FFT output is half the length of the original signal $N$\n",
    "- The highest frequency that the original signal can capture is half the sampling frequency $f_s$\n",
    "\n",
    "The frequency vector is therefore given by\n",
    "\n",
    "$$f[n] = \\frac{f_s/2}{N/2} \\cdot n = \\frac{f_s}{N} \\cdot n = \\frac{1}{N T_s} \\cdot n, \\qquad \\text{for } n = 0, \\dots, \\lfloor N/2 \\rfloor.$$\n",
    "\n",
    "where $N$ is the length of the signal vector $x[n]$, $f_s$ is the sampling frequency, and $T_s = 1/f_s$ is the sampling period.\n",
    "\n",
    "NumPy provides a convenience function that does this for us. It's called `rfftfreq`, and it takes two arguments: the length of the original signal $N$, and the sampling period $T_s$."
   ]
  },
  {
   "cell_type": "markdown",
   "id": "917995e0d5a7a4ee",
   "metadata": {},
   "source": [
    "TODO: MAYBE HAVE QUESTION HERE ABOUT WHERE THE EXPECTED SPIKE SHOULD BE."
   ]
  },
  {
   "cell_type": "code",
   "execution_count": null,
   "id": "74abb76b15453206",
   "metadata": {
    "ExecuteTime": {
     "end_time": "2025-04-18T20:39:03.631118Z",
     "start_time": "2025-04-18T20:39:03.513529Z"
    }
   },
   "outputs": [],
   "source": [
    "Ts = 1 / fs\n",
    "f_fft = rfftfreq(x.size, Ts)  # equivalent to: np.arange(x_fft.size) * fs / x.size\n",
    "x_fft = rfft(x)\n",
    "\n",
    "plt.plot(f_fft, np.abs(x_fft))\n",
    "plt.xlabel(\"Frequency (Hz)\", size=18)\n",
    "plt.ylabel(\"Amplitude\", size=18);"
   ]
  },
  {
   "cell_type": "markdown",
   "id": "ed6a94ee3ac1452a",
   "metadata": {},
   "source": [
    "So to summarize, to use the FFT as an approximation for the continuous-time Fourier transform, we do what's in the above cell.\n",
    "\n",
    "<div class=\"alert alert-info\">\n",
    "    <p><strong>More than you needed to know:</strong> The <code>r</code> in <code>rfft()</code> stands for “real”, signalling that <code>rfft()</code> computes the FFT on the assumption that the signal is real (<i>i.e.</i>, without imaginary part), which ours is. The frequency-domain representation (FFT output), however, is still complex (<i>i.e.</i>, has an imaginary part).</p>\n",
    "    <p>Then what does the real assumption buy us? The standard <code>fft()</code> computes the FFT assuming that the input might be complex. This gives rise to “negative frequencies”, which are beyond the scope of this course. However, if the input is real, then the negative frequencies form a symmetry with the positive frequencies. This renders the negative frequencies redundant, so <code>rfft()</code> just doesn't compute them.</p>\n",
    "    <p>The frequency-domain representation is complex to account for both the amplitude and phase of frequency components. The magnitude (a.k.a. absolute value, modulus) repreesnts the amplitude, and the argument (a.k.a. angle) represents the phase. In this project, we will only be interested in inspecting the magnitude of frequency components. However, it's necessary to retain the whole complex number to be able to do the inverse FFT, which we'll do next.</p>\n",
    "</div>\n",
    "\n",
    "### Inverse FFT\n",
    "\n",
    "The function computing the inverse FFT is `irfft()`.\n",
    "\n",
    "Like `rfft()`, `irfft()` doesn't itself know anything, or need to know anything, about sampling. It just carries out the inverse FFT algorithm on frequency components, presumably indexed by integers. The corresponding time vector $t[n]$ is then the same time vector that we started with, $t[n] = nT_s$."
   ]
  },
  {
   "cell_type": "code",
   "execution_count": null,
   "id": "ab0e191178bfd4eb",
   "metadata": {
    "ExecuteTime": {
     "end_time": "2025-04-18T20:39:03.845899Z",
     "start_time": "2025-04-18T20:39:03.640766Z"
    }
   },
   "outputs": [],
   "source": [
    "x_recovered = irfft(x_fft)\n",
    "# just use the same `t` from before\n",
    "plt.plot(t, x_recovered)\n",
    "plt.xlabel('t', size=18)\n",
    "plt.ylabel('Recovered x(t)', size=18)\n",
    "plt.show()\n",
    "plt.show()"
   ]
  },
  {
   "cell_type": "markdown",
   "id": "e5d2a16b324f0c6c",
   "metadata": {},
   "source": [
    "<span style=\"background-color: #8C1515; font-weight: bold; color: white;\">Question 1.1.</span> Choose some other pure tone frequencies and try them out in the cells above. Satisfy yourself that the FFT vector $x_\\mathcal{F}[n]$, plotted against the correct frequency vector $f[n]$, will show the spike in the right place, and that the inverse FFT recovers the original signal. You might also try adding two pure tones (of different frequencies) together to see the outcome."
   ]
  },
  {
   "cell_type": "code",
   "execution_count": null,
   "id": "e0fe0d10210a1c0b",
   "metadata": {
    "ExecuteTime": {
     "end_time": "2025-04-18T20:39:03.874591Z",
     "start_time": "2025-04-18T20:39:03.870894Z"
    }
   },
   "outputs": [],
   "source": [
    "# Cell for Question 1.1\n",
    "# plot frequency spectrum"
   ]
  },
  {
   "cell_type": "code",
   "execution_count": null,
   "id": "eec14d736d565650",
   "metadata": {},
   "outputs": [],
   "source": [
    "# Cell for Question 1.1\n",
    "# plot time domain signal"
   ]
  },
  {
   "cell_type": "code",
   "execution_count": null,
   "id": "67d241b80fe2fd9c",
   "metadata": {
    "ExecuteTime": {
     "end_time": "2025-04-18T20:39:04.032089Z",
     "start_time": "2025-04-18T20:39:03.911586Z"
    }
   },
   "outputs": [],
   "source": [
    "# solution code - delete before sending to students!\n",
    "\n",
    "x = np.sin(2 * π * 1000 * t) + np.sin(2 * π * 2000 * t)\n",
    "\n",
    "x_fft = rfft(x)\n",
    "f_fft = rfftfreq(x.size, Ts)\n",
    "plt.plot(f_fft, np.abs(x_fft))\n",
    "plt.xlabel('Frequency (Hz)', size=18)\n",
    "plt.ylabel('Amplitude', size=18);"
   ]
  },
  {
   "cell_type": "code",
   "execution_count": null,
   "id": "f42d6d2a6d22c05f",
   "metadata": {
    "ExecuteTime": {
     "end_time": "2025-04-18T20:39:04.229183Z",
     "start_time": "2025-04-18T20:39:04.051973Z"
    }
   },
   "outputs": [],
   "source": [
    "# solution code - delete before sending to students!\n",
    "\n",
    "x_recovered = irfft(x_fft)\n",
    "\n",
    "plt.plot(t, x_recovered)\n",
    "plt.xlabel('t', size=18)\n",
    "plt.ylabel('Recovered x(t)', size=18)\n",
    "plt.show()\n",
    "plt.show()"
   ]
  },
  {
   "cell_type": "markdown",
   "id": "dc042526fa7dd6b1",
   "metadata": {},
   "source": [
    "# Part 2: The spectrum of the transmitted signal (15 points)\n",
    "\n",
    "We're now in a position to begin our investigation of the spectrum of our transmitted OOK signal. Let's start with the **baseband** (unmodulated) signal.\n",
    "\n",
    "<div class=\"alert alert-info\"><strong>Terminology:</strong> In this project, the <em>baseband signal</em>, <em>unmodulated signal</em> and <em>envelope signal</em> are all the same thing. Similarly, <em>passband signal</em> and <em>modulated signal</em> refer to the same thing. (In other contexts, there might be subtle differences between these terms, but in this project, there aren't.)</div>\n",
    "\n",
    "### Spectrum of baseband (unmodulated, envelope) signal\n",
    "\n",
    "<span style=\"background-color: #8C1515; font-weight: bold; color: white;\">Question 2.1.</span> Use (_i.e._, copy) your code from Project 2a to generate a **baseband** (envelope) signal for a randomly generated message. Use the `rfft()` and `rfftfreq()` functions to plot the magnitude (`np.abs()`) of its spectrum.\n",
    "\n",
    "Use the data rate you reported in Question 4.1 of Project 2a, the rate at which your decoding had around one bit error most of the time for the physical channel. Your message should be of a length that the entire transmission takes around 6 seconds.\n",
    "\n",
    "<div class=\"alert alert-info\">\n",
    "    <p><strong>Zooming in on plots:</strong> If you want to zoom in horizontally on the plot, you can use the command <code>plt.xlim(xmin, xmax)</code> to specify the limits of the x-axis. For example, <code>plt.xlim(0, 10)</code> will restrict the plot to between 0 and 10 on the x-axis. This can allow you to zoom in on the parts of the spectrum that are more interesting.</p>\n",
    "    <p>Similarly, you can use <code>plt.ylim(ymin, ymax)</code> to zoom in on the y-axis (vertically). This might allow you to more closely inspect the nonzero parts of the spectrum that aren't the big main spike.</p>\n",
    "    <p><strong>If you do this</strong>, please present <strong>both</strong> the original plot <strong>and</strong> the zoomed in plot, with brief commentary about which part you zoomed in on. (It's okay to duplicate plotting code between cells to make this work.)</p>\n",
    "</div>"
   ]
  },
  {
   "cell_type": "code",
   "execution_count": null,
   "id": "e7272480e2db4c78",
   "metadata": {
    "ExecuteTime": {
     "end_time": "2025-04-18T20:39:04.253911Z",
     "start_time": "2025-04-18T20:39:04.250209Z"
    }
   },
   "outputs": [],
   "source": [
    "# Question 2.1.\n",
    "# Spectrum of the baseband (envelope) signal.\n",
    "# This may involve copying some code from Project 2a.\n",
    "# As always, add as many cells as you need to show what you want to show."
   ]
  },
  {
   "cell_type": "code",
   "execution_count": null,
   "id": "2a9ed8d96aef2c63",
   "metadata": {
    "ExecuteTime": {
     "end_time": "2025-04-18T20:39:04.563088Z",
     "start_time": "2025-04-18T20:39:04.295029Z"
    }
   },
   "outputs": [],
   "source": [
    "# solution code - delete before sending to students!\n",
    "\n",
    "message = rng.integers(0, 2, 1100)\n",
    "message = np.insert(message, 0, 1)  # always start the message with a 1 (we'll see why soon)\n",
    "\n",
    "rate = 300\n",
    "T = 1 / rate\n",
    "k = len(message)\n",
    "t = np.arange(0, k * T, 1 / fs)\n",
    "baseband = message[np.floor(t / T).astype(int)]\n",
    "\n",
    "f_fft = rfftfreq(baseband.size, 1 / fs)\n",
    "baseband_fft = rfft(baseband)\n",
    "\n",
    "fig = plt.figure(figsize=(15, 3.75))\n",
    "fig.patch.set_facecolor('red')\n",
    "plt.plot(f_fft, np.abs(baseband_fft))\n",
    "plt.xlabel('frequency (Hz)')\n",
    "plt.show()"
   ]
  },
  {
   "cell_type": "code",
   "execution_count": null,
   "id": "61883aa29f122244",
   "metadata": {
    "ExecuteTime": {
     "end_time": "2025-04-18T20:39:04.751410Z",
     "start_time": "2025-04-18T20:39:04.593236Z"
    }
   },
   "outputs": [],
   "source": [
    "# solution code - delete before sending to students!\n",
    "\n",
    "fig = plt.figure(figsize=(15, 3.75))\n",
    "fig.patch.set_facecolor('red')\n",
    "plt.plot(f_fft, np.abs(baseband_fft))\n",
    "plt.xlabel('frequency (Hz)')\n",
    "plt.xlim(0, 1000)\n",
    "plt.ylim(0, 8000)\n",
    "plt.show()"
   ]
  },
  {
   "cell_type": "markdown",
   "id": "20d2b2fa2ff8b0b4",
   "metadata": {},
   "source": [
    "### Spectrum of modulated (passband) signal\n",
    "\n",
    "Now modulate the signal and inspect its spectrum."
   ]
  },
  {
   "cell_type": "markdown",
   "id": "4747adbf6130935d",
   "metadata": {},
   "source": [
    "<span style=\"background-color: #8C1515; font-weight: bold; color: white;\">Question 2.2.</span> Use (_i.e._, copy) your code from Project 2a to **modulate** your baseband signal to arrive at the **modulated (passband) signal** (_i.e._, multiply by a pure tone at your chosen carrier frequency), and plot the spectrum of the modulated signal.\n",
    "\n",
    "<div class=\"alert alert-success\" style=\"color: black;\"><strong>General notes on plots.</strong> In all spectrum plots in this project, you should:\n",
    "    <ul>\n",
    "        <li>plot only the magnitude of the spectrum, <i>i.e.</i> take the <code>np.abs()</code> of the (complex) spectrum before plotting, and</li>\n",
    "        <li>feel at liberty to zoom in to the plot using <code>plt.xlim()</code> (and <code>plt.ylim()</code> if you like), but please always present the original zoomed out plot as well, so we can see what you're zooming into.</li>\n",
    "    </ul>\n",
    "</div>"
   ]
  },
  {
   "cell_type": "code",
   "execution_count": null,
   "id": "2e67c6473b186591",
   "metadata": {
    "ExecuteTime": {
     "end_time": "2025-04-18T20:39:04.791530Z",
     "start_time": "2025-04-18T20:39:04.788077Z"
    }
   },
   "outputs": [],
   "source": [
    "# Question 2.2.\n",
    "# Spectrum of passband (modulated) signal."
   ]
  },
  {
   "cell_type": "code",
   "execution_count": null,
   "id": "a91ba0c2d95a35ab",
   "metadata": {
    "ExecuteTime": {
     "end_time": "2025-04-18T20:39:04.950280Z",
     "start_time": "2025-04-18T20:39:04.823601Z"
    }
   },
   "outputs": [],
   "source": [
    "# solution code - delete before sending to students!\n",
    "\n",
    "fc = 1500\n",
    "x = np.sin(2 * π * fc * t) * baseband\n",
    "\n",
    "f_fft = rfftfreq(x.size, 1 / fs)\n",
    "x_fft = rfft(x)\n",
    "fig = plt.figure(figsize=(15, 3.75))\n",
    "fig.patch.set_facecolor('red')\n",
    "plt.plot(f_fft, np.abs(x_fft))\n",
    "plt.xlabel('frequency (Hz)')\n",
    "plt.show()"
   ]
  },
  {
   "cell_type": "code",
   "execution_count": null,
   "id": "5c0a448ecad0c5ce",
   "metadata": {
    "ExecuteTime": {
     "end_time": "2025-04-18T20:39:05.062834Z",
     "start_time": "2025-04-18T20:39:04.974445Z"
    }
   },
   "outputs": [],
   "source": [
    "# solution code - delete before sending to students!\n",
    "\n",
    "fig = plt.figure(figsize=(15, 3.75))\n",
    "fig.patch.set_facecolor('red')\n",
    "plt.plot(f_fft, np.abs(x_fft))\n",
    "plt.xlabel('frequency (Hz)')\n",
    "plt.xlim(1000, 2000)\n",
    "plt.ylim(0, 8000)\n",
    "plt.show()"
   ]
  },
  {
   "cell_type": "markdown",
   "id": "3e74246bc40eb847",
   "metadata": {},
   "source": [
    "<span style=\"background-color: #8C1515; font-weight: bold; color: white;\">Question 2.3.</span> What is the relationship between the baseband and passband spectra? You should be able to describe in exact terms how, without taking the inverse FFT, one would arrive at the passband spectrum, given the baseband spectrum and the carrier frequency.\n",
    "\n",
    "_WHAT WE EXPECT:_ a short answer with 1-2 sentences."
   ]
  },
  {
   "cell_type": "markdown",
   "id": "42c755cf1b139e16",
   "metadata": {},
   "source": [
    "> YOUR ANSWER HERE (to Question 2.3)"
   ]
  },
  {
   "cell_type": "markdown",
   "id": "e3d7988ff8775d93",
   "metadata": {},
   "source": [
    "> The spectrum of the passband signal is obtained by shifting the spectrum of the baseband signal to the carrier frequency fc."
   ]
  },
  {
   "cell_type": "markdown",
   "id": "873d768fa5318d9d",
   "metadata": {},
   "source": [
    "<span style=\"background-color: #8C1515; font-weight: bold; color: white;\">Question 2.4.</span> Double the data rate you used in Questions 2.1–2.2, and reproduce the same spectrum plot as in Question 2.2. How does this new spectrum compare to the original spectrum? Explain in terms of what you know about the relationship between bandwidth and data rate.\n",
    "\n",
    "_WHAT WE EXPECT:_ a short answer with 1-2 sentences."
   ]
  },
  {
   "cell_type": "markdown",
   "id": "79b0f88bd7c959f7",
   "metadata": {},
   "source": [
    "> YOUR ANSWER HERE (to Question 2.4)"
   ]
  },
  {
   "cell_type": "markdown",
   "id": "292eb27f7115760b",
   "metadata": {},
   "source": [
    "> The doubled data rate spectrum shares the same general shape as the original, yet it is stretched horizontally by a factor of 2. From lecture, we know that an increase in the data rate is consistent with an increase in the bandwidth of the signal. Doubling the data rate is going to double the bandwidth. The total energy of the signal is going to remain the same, but it is now spread out over a 2x larger range of frequencies and so its power is more diluted per frequency which reduces the magnitude per unit of bandwidth."
   ]
  },
  {
   "cell_type": "code",
   "execution_count": null,
   "id": "2aa3c914a2eefef",
   "metadata": {
    "ExecuteTime": {
     "end_time": "2025-04-18T20:39:05.089966Z",
     "start_time": "2025-04-18T20:39:05.085915Z"
    }
   },
   "outputs": [],
   "source": [
    "# Question 2.4.\n",
    "# Spectrum of passband signal, but for twice the data rate."
   ]
  },
  {
   "cell_type": "code",
   "execution_count": null,
   "id": "6cc258b32133bd4d",
   "metadata": {
    "ExecuteTime": {
     "end_time": "2025-04-18T20:39:05.374871Z",
     "start_time": "2025-04-18T20:39:05.131683Z"
    }
   },
   "outputs": [],
   "source": [
    "# Solution code - delete before sending to students!\n",
    "\n",
    "# Rate = 300\n",
    "rates = [300, 600]\n",
    "for rate in rates:\n",
    "    T = 1 / rate\n",
    "    k = len(message)\n",
    "    t = np.arange(0, k * T, 1 / fs)\n",
    "    baseband = message[np.floor(t / T).astype(int)]\n",
    "\n",
    "    fc = 1500\n",
    "    x = np.sin(2 * π * fc * t) * baseband\n",
    "\n",
    "    f_fft = rfftfreq(x.size, 1 / fs)\n",
    "    x_fft = rfft(x)\n",
    "\n",
    "    fig = plt.figure(figsize=(15, 3.75))\n",
    "    fig.patch.set_facecolor('red')\n",
    "    plt.plot(f_fft, np.abs(x_fft))\n",
    "    plt.xlabel('frequency (Hz)')\n",
    "    plt.xlim(500, 2500)\n",
    "    #plt.ylim(0, 8000)\n",
    "    plt.title(f'fc = {fc}, rate = {rate}')\n",
    "    plt.show()"
   ]
  },
  {
   "cell_type": "markdown",
   "id": "300cff7f3cdc4552",
   "metadata": {},
   "source": [
    "<div class=\"alert alert-warning\" style=\"color: black;\"><strong>Before you continue:</strong> Don't forget to restore your data rate to your original data rate, and regenerate your message and transmitted signal if necessary, before you continue on to Part 3!</div>"
   ]
  },
  {
   "cell_type": "markdown",
   "id": "7ff6a3c905c46b74",
   "metadata": {},
   "source": [
    "# Part 3: The spectrum of the received signal (25 points)\n",
    "\n",
    "It's useful to understand the spectrum of the transmitted signal because it gives us an idea of what to expect from a \"perfect received signal\" (which is, in an ideal world, just a scaled version of the transmitted signal). In this part, we'll first inspect the spectrum of the received signal, and then we'll add external disturbances to see the effect on the spectrum."
   ]
  },
  {
   "cell_type": "markdown",
   "id": "99e503bcd175aeb3",
   "metadata": {},
   "source": [
    "<span style=\"background-color: #8C1515; font-weight: bold; color: white;\">Question 3.1.a - simulated channel</span> Use your code from Project 2a to transmit and receive your modulated signal (using `channel0()`), and plot the spectrum of the received signal.\n",
    "\n",
    "_Note:_ You should add the silence after the signal to make sure the entire OOK signal is recorded. However, you don't need to truncate the signal to detect its starting point accurately—just take the FFT of the whole thing. Note that this means your frequency vector $f[n]$ (generated by `rfftfreq()`) will be different to the one you used to plot the spectrum in Part 2.\n",
    "\n",
    "<div class=\"alert alert-info\">Reminder: You can zoom in using <code>plt.xlim()</code> and <code>plt.ylim()</code>, which you might do to look more closely at the “interesting” parts of the spectrum. It's okay to zoom in vertically in a way that pushes the main spike off the scale, if you want to look at other activity.</div>\n",
    "\n",
    "<div class=\"alert alert-warning\">You may reuse the (simulated) received signal in the subsequent questions, so to prevent error, <b> we suggest you to use a unique variable to store it </b> (e.g.,  <code>y_sim</code>).</div>"
   ]
  },
  {
   "cell_type": "code",
   "execution_count": null,
   "id": "6c7c1311d6043694",
   "metadata": {
    "ExecuteTime": {
     "end_time": "2025-04-18T20:39:05.387277Z",
     "start_time": "2025-04-18T20:39:05.383880Z"
    }
   },
   "outputs": [],
   "source": [
    "# Question 3.1.a\n",
    "# Spectrum of the received signal."
   ]
  },
  {
   "cell_type": "code",
   "execution_count": null,
   "id": "217b8524223050eb",
   "metadata": {
    "ExecuteTime": {
     "end_time": "2025-04-18T20:39:05.577968Z",
     "start_time": "2025-04-18T20:39:05.426566Z"
    }
   },
   "outputs": [],
   "source": [
    "# solution code - delete before sending to students!\n",
    "\n",
    "silence = 0.5  # seconds\n",
    "x_extended = np.append(x, np.zeros(int(silence * fs)))\n",
    "y = channel0(x_extended)\n",
    "\n",
    "fig = plt.figure(figsize=(15, 3.75))\n",
    "fig.patch.set_facecolor('red')\n",
    "fy_fft = rfftfreq(y.size, 1 / fs)\n",
    "y_fft = rfft(y)\n",
    "plt.plot(fy_fft, np.abs(y_fft))\n",
    "\n",
    "plt.xlabel('frequency (Hz)')\n",
    "plt.show()"
   ]
  },
  {
   "cell_type": "code",
   "execution_count": null,
   "id": "95bd278b42eaa872",
   "metadata": {
    "ExecuteTime": {
     "end_time": "2025-04-18T20:39:05.711643Z",
     "start_time": "2025-04-18T20:39:05.588238Z"
    }
   },
   "outputs": [],
   "source": [
    "# solution code - delete before sending to students!\n",
    "\n",
    "fig = plt.figure(figsize=(15, 3.75))\n",
    "fig.patch.set_facecolor('red')\n",
    "fy_fft = rfftfreq(y.size, 1 / fs)\n",
    "y_fft = rfft(y)\n",
    "plt.plot(fy_fft, np.abs(y_fft))\n",
    "plt.xlabel('frequency (Hz)')\n",
    "plt.xlim(0, 2000)\n",
    "plt.ylim(0, 1000)\n",
    "plt.show()\n"
   ]
  },
  {
   "cell_type": "code",
   "execution_count": null,
   "id": "20ad47a2586e5846",
   "metadata": {
    "ExecuteTime": {
     "end_time": "2025-04-18T20:39:06.241219Z",
     "start_time": "2025-04-18T20:39:05.788842Z"
    }
   },
   "outputs": [],
   "source": [
    "# solution code - delete before sending to students!\n",
    "\n",
    "plt.plot(t, y[:len(t)])"
   ]
  },
  {
   "cell_type": "markdown",
   "id": "2cf745dd3017edcc",
   "metadata": {},
   "source": [
    "<span style=\"background-color: #8C1515; font-weight: bold; color: white;\">Question 3.2.</span> Comment on how this is similar to and different from the spectrum of the transmitted passband signal you found in Question 2.2. For example—is the spike in the same place, are there additional components or absent components?\n",
    "\n",
    "_WHAT WE EXPECT: a short answer with 1-2 sentence."
   ]
  },
  {
   "cell_type": "markdown",
   "id": "f7761fab4430109e",
   "metadata": {},
   "source": [
    "> YOUR ANSWER HERE"
   ]
  },
  {
   "cell_type": "markdown",
   "id": "671cafbca7e10566",
   "metadata": {},
   "source": [
    "> The spike appears at the same place as the transmitted signal, i.e., it is centered around the carrier frequency. The magnitude of the signal is slightly lower than the original one from 2.2. There is also some additional noise visible at low frequency areas."
   ]
  },
  {
   "cell_type": "markdown",
   "id": "3ae77e2627d1bdfc",
   "metadata": {},
   "source": [
    "<span style=\"background-color: #8C1515; font-weight: bold; color: white;\">Question 3.3.- physical channel</span> The following cell records from your microphone for 6 seconds. Run it and talk out loud while it's recording. Just talk—anything will do. If you don't know what to say, try this paragraph ([source](https://www.newyorker.com/tech/annals-of-technology/claude-shannon-the-father-of-the-information-age-turns-1100100)):\n",
    "> “Einstein looms large, and rightly so,” James Gleick told me. “But we’re not living in the relativity age, we’re living in the information age. It’s Shannon whose fingerprints are on every electronic device we own, every computer screen we gaze into, every means of digital communication. He’s one of these people who so transform the world that, after the transformation, the old world is forgotten.”\n",
    "\n",
    "Then, plot the spectrum of your talking noise in the following cell.\n",
    "\n",
    "_Optional:_ You might also like to plot the recorded signal (in the time domain), if you haven't seen what an audio of someone talking looks like before."
   ]
  },
  {
   "cell_type": "code",
   "execution_count": null,
   "id": "95a9a70efd70612b",
   "metadata": {
    "ExecuteTime": {
     "end_time": "2025-04-18T20:39:14.354552Z",
     "start_time": "2025-04-18T20:39:06.248915Z"
    }
   },
   "outputs": [],
   "source": [
    "duration = 6\n",
    "print(\"Recording for {} seconds...\".format(duration))\n",
    "noise = channel1(np.zeros(duration*fs))\n",
    "print(\"... done.\")"
   ]
  },
  {
   "cell_type": "code",
   "execution_count": null,
   "id": "e28cc782ba6a5a98",
   "metadata": {
    "ExecuteTime": {
     "end_time": "2025-04-18T20:39:14.402580Z",
     "start_time": "2025-04-18T20:39:14.399927Z"
    }
   },
   "outputs": [],
   "source": [
    "# Question 3.3.\n",
    "# Spectrum of the \"talking noise\" recording.\n",
    "# (You may also, optionally, plot the signal in the time domain in another cell.)"
   ]
  },
  {
   "cell_type": "code",
   "execution_count": null,
   "id": "b481c12665dc6a38",
   "metadata": {
    "ExecuteTime": {
     "end_time": "2025-04-18T20:39:14.610102Z",
     "start_time": "2025-04-18T20:39:14.451417Z"
    }
   },
   "outputs": [],
   "source": [
    "# solution code - delete before sending to students!\n",
    "\n",
    "fig = plt.figure(figsize=(15, 3.75))\n",
    "fig.patch.set_facecolor('red')\n",
    "t = np.arange(0, noise.size) / fs\n",
    "plt.plot(t, noise)\n",
    "plt.show()"
   ]
  },
  {
   "cell_type": "code",
   "execution_count": null,
   "id": "83df1a8f0c7e768e",
   "metadata": {
    "ExecuteTime": {
     "end_time": "2025-04-18T20:39:14.713893Z",
     "start_time": "2025-04-18T20:39:14.615904Z"
    }
   },
   "outputs": [],
   "source": [
    "# solution code - delete before sending to students!\n",
    "\n",
    "fig = plt.figure(figsize=(15, 3.75))\n",
    "fig.patch.set_facecolor('red')\n",
    "fn_fft = rfftfreq(noise.size, 1 / fs)\n",
    "noise_fft = rfft(noise)\n",
    "plt.plot(fn_fft, np.abs(noise_fft))\n",
    "plt.xlabel('frequency (Hz)')\n",
    "plt.show()"
   ]
  },
  {
   "cell_type": "markdown",
   "id": "5d0c6bd175e31134",
   "metadata": {},
   "source": [
    "# Part 4: Filtering to extract the signal of interest (25 points)\n",
    "\n",
    "Recall from Project 1b that a **filter** is an operation that extracts some frequency components, and sets all others to zero.\n",
    "\n",
    "In this case, we want to keep the frequencies that are likely to be relevant to our OOK signal, and to discard the ones that aren't. This isn't necessarily a clean-cut decision. You'll have noticed in Part 3 that there's some overlap involved. Nonetheless, we can \"clean up\" our signal quite a lot by choosing cutoff frequencies strategically.\n",
    "\n",
    "Because our frequencies have physical meanings, our filter implementation will be a little more involved than the filter from Project 1b. Remember the scaling for frequencies we had to do so that we can plot spectra with accurate frequency axes? We'll need to do that here, too. So we'll first write a function that modifies a spectrum by retaining _only_ those frequencies within a _passband_, between `fmin` and `fmax`.\n",
    "\n",
    "(On the other hand, we only have to deal with one dimension in this one!)\n"
   ]
  },
  {
   "cell_type": "markdown",
   "id": "b9031709206bd19d",
   "metadata": {},
   "source": [
    "<span style=\"background-color: #8C1515; font-weight: bold; color: white;\">Question 4.1.</span> Write a function `bandpass()` that takes a spectrum (as returned by `rfft()`) and sampling frequency `fs`, and returns the same spectrum with all values outside the frequency range between `fmin` and `fmax` set to zero.\n",
    "\n",
    "- The tricky part of this function is that you'll need to “convert” `fmin` and `fmax` to indices of the `spectrum` vector. To do this, recall from earlier that, where $f_s$ is the sampling frequency and $N$ is the length of the original vector,\n",
    "  $$f[n] = \\frac{f_s}{N} \\cdot n.$$\n",
    "- Your function should not need to use `rfft()` or `irfft()`, because it is only working in the frequency domain. In subsequent cells, call these functions separately to `bandpass()`.\n",
    "- If you use `np.zeros()` (or a similar function) to initialize a new array, add the keyword argument `dtype=complex`. This will make sure the array expects to take complex numbers, since the spectrum is complex.\n",
    "- You shouldn't need to modify any of the complex numbers in the array, other than to replace them with zero.\n",
    "- Note that your filter can either include or exclude $f_\\text{min}$ and $f_\\text{max}$. We will not be strict about this."
   ]
  },
  {
   "cell_type": "code",
   "execution_count": null,
   "id": "b9da5664f3bfda2d",
   "metadata": {
    "ExecuteTime": {
     "end_time": "2025-04-18T20:39:14.745123Z",
     "start_time": "2025-04-18T20:39:14.741795Z"
    }
   },
   "outputs": [],
   "source": [
    "def bandpass(spectrum, fs, fmin, fmax):\n",
    "    # replace this line\n",
    "    return np.zeros(spectrum.size, dtype=complex)"
   ]
  },
  {
   "cell_type": "code",
   "execution_count": null,
   "id": "c9abdde7486eb1be",
   "metadata": {
    "ExecuteTime": {
     "end_time": "2025-04-18T20:39:14.777010Z",
     "start_time": "2025-04-18T20:39:14.773321Z"
    }
   },
   "outputs": [],
   "source": [
    "# solution code - delete before sending to students!\n",
    "\n",
    "def bandpass(spectrum, fs, fmin, fmax):\n",
    "    filtered = np.zeros(spectrum.size, dtype=complex)\n",
    "    N = 2 * spectrum.size\n",
    "    imin = int(fmin * N / fs)\n",
    "    imax = int(fmax * N / fs)\n",
    "    filtered[imin:imax] = spectrum[imin:imax]\n",
    "    return filtered"
   ]
  },
  {
   "cell_type": "markdown",
   "id": "c6c4f91e7f083431",
   "metadata": {},
   "source": [
    "<div class=\"alert alert-info\">Questions 4.2.a to 4.2.c are really part of the same question, but we've separated them to make clear which plots we want to see. You might consider returning to Question 4.2.a to reselect your cutoff frequencies after doing Question 4.2.c</div>"
   ]
  },
  {
   "cell_type": "markdown",
   "id": "45c5b0f38c779055",
   "metadata": {},
   "source": [
    "<span style=\"background-color: #8C1515; font-weight: bold; color: white;\">Question 4.2.a - simulated channel </span> Apply the bandpass filter to the spectrum of your noisy signal from the simulated channel in Question 3.1.a. Plot the resulting filtered signal in both the time domain and the frequency domain. You should use this plot to verify that your `bandpass()` implementation works as intended.\n",
    "\n",
    "You'll need to choose the cutoff frequencies `fmin` and `fmax`. You should choose them based on what you notice about the spectra in Part 3. It's fine (and encouraged) to return to this question later and choose different cutoff frequencies, if you change your mind after Question 4.2.c.\n",
    "\n",
    "<div class=\"alert alert-warning\">Note that the noisy signal in Question 3.1.a is free from \"interference,\" such as human talking noise introduced in Question 3.6, so filtering is unnecessary for decoding. You can use a simple energy-based decoder as in Project 2a. The intention of this question is primarily to serve as a sanity check to your filtering implementation. However, in the following questions (Q4.3.a - Q4.3.c) where the received signal is affected by human voice contamination, filtering should enhance your decoding. </div>"
   ]
  },
  {
   "cell_type": "code",
   "execution_count": null,
   "id": "3743be62a50bce5f",
   "metadata": {
    "ExecuteTime": {
     "end_time": "2025-04-18T20:39:14.831294Z",
     "start_time": "2025-04-18T20:39:14.828196Z"
    }
   },
   "outputs": [],
   "source": [
    "# Question 4.2.a.\n",
    "# Plots of filtered signal in time and frequency domain."
   ]
  },
  {
   "cell_type": "code",
   "execution_count": null,
   "id": "e2d0697bc42fdc05",
   "metadata": {
    "ExecuteTime": {
     "end_time": "2025-04-18T20:39:14.924685Z",
     "start_time": "2025-04-18T20:39:14.838278Z"
    }
   },
   "outputs": [],
   "source": [
    "# solution code - delete before sending to students!\n",
    "\n",
    "# Load the signal\n",
    "fy_fft = rfftfreq(y.size, 1 / fs)\n",
    "y_fft = rfft(y)\n",
    "\n",
    "# Filter the spectrum\n",
    "y_fft_filtered = bandpass(y_fft, fs, fc - 300, fc + 300)\n",
    "\n",
    "fig = plt.figure(figsize=(15, 3.75))\n",
    "fig.patch.set_facecolor('red')\n",
    "plt.plot(fy_fft, np.abs(y_fft_filtered))\n",
    "plt.xlim(0, 2000)\n",
    "plt.ylim(0, 1000)\n",
    "plt.show()"
   ]
  },
  {
   "cell_type": "code",
   "execution_count": null,
   "id": "9b66ea09ced770db",
   "metadata": {
    "ExecuteTime": {
     "end_time": "2025-04-18T20:39:15.124508Z",
     "start_time": "2025-04-18T20:39:14.978799Z"
    }
   },
   "outputs": [],
   "source": [
    "# solution code - delete before sending to students!\n",
    "\n",
    "y_filtered = irfft(y_fft_filtered)\n",
    "t = np.arange(0, y_filtered.size) / fs\n",
    "fig = plt.figure(figsize=(15, 3.75))\n",
    "fig.patch.set_facecolor('red')\n",
    "plt.plot(t, y_filtered)\n",
    "plt.show()"
   ]
  },
  {
   "cell_type": "markdown",
   "id": "3a6195b8620f6633",
   "metadata": {},
   "source": [
    "<span style=\"background-color: #8C1515; font-weight: bold; color: white;\">Question 4.2.b - simulated channel</span> If you haven't already, zoom in to a section of the time-domain signal that's about 10 to 15 symbols long. Plot both the unfiltered received signal, and the filtered signal (on different axes), in the same zoomed-in section.\n",
    "(If you did this during Question 4.2.a., just leave a note in the answer below telling us to look above.)"
   ]
  },
  {
   "cell_type": "code",
   "execution_count": null,
   "id": "24881300a08ea338",
   "metadata": {
    "ExecuteTime": {
     "end_time": "2025-04-18T20:39:15.159379Z",
     "start_time": "2025-04-18T20:39:15.157216Z"
    }
   },
   "outputs": [],
   "source": [
    "# Question 4.2.b.\n",
    "# Plots of unfiltered and filtered signals."
   ]
  },
  {
   "cell_type": "code",
   "execution_count": null,
   "id": "714e25a57479f0f7",
   "metadata": {
    "ExecuteTime": {
     "end_time": "2025-04-18T20:39:15.275457Z",
     "start_time": "2025-04-18T20:39:15.169001Z"
    }
   },
   "outputs": [],
   "source": [
    "# solution code - delete before sending to students!\n",
    "\n",
    "t = np.arange(0, y.size) / fs\n",
    "\n",
    "fig = plt.figure(figsize=(15, 3.75))\n",
    "fig.patch.set_facecolor('red')\n",
    "plt.plot(t, y)\n",
    "plt.title(\"Unfiltered signal (time domain)\")\n",
    "plt.xlim(0.4, 0.6)\n",
    "plt.show()"
   ]
  },
  {
   "cell_type": "code",
   "execution_count": null,
   "id": "96675e0ce9da48de",
   "metadata": {
    "ExecuteTime": {
     "end_time": "2025-04-18T20:39:15.399242Z",
     "start_time": "2025-04-18T20:39:15.304179Z"
    }
   },
   "outputs": [],
   "source": [
    "# solution code - delete before sending to students!\n",
    "\n",
    "t = np.arange(0, y_filtered.size) / fs\n",
    "\n",
    "fig = plt.figure(figsize=(15, 3.75))\n",
    "fig.patch.set_facecolor('red')\n",
    "plt.plot(t, y_filtered)\n",
    "plt.title(\"Filtered signal (time domain)\")\n",
    "plt.xlim(0.4, 0.6)\n",
    "plt.show()"
   ]
  },
  {
   "cell_type": "markdown",
   "id": "fc77fa3d1102bd83",
   "metadata": {},
   "source": [
    "<span style=\"background-color: #8C1515; font-weight: bold; color: white;\">Question 4.2.c - simulated channel</span> Decode the _filtered_ signal using the same techniques that you used in Project 2a (and Question 3.6). Report the bit error rate. How does this compare to your previous error rate in Question 3.6?\n",
    "\n",
    "<div class=\"alert alert-success\">It's acceptable to go back to Question 4.2.a. at this point, and re-tune your cutoff frequencies.</div>\n",
    "\n",
    "<div class=\"alert alert-success\"><strong>General note:</strong> You might find it helpful to plot the received signal and visualize the energy values, possibly after zooming in. This can help you find any bugs in the code, or to set the thresholds at an appropriate level. You should check this whenever you make any major changes to the parameters, or when you can't properly understand why you are getting bad performance.</div>"
   ]
  },
  {
   "cell_type": "code",
   "execution_count": null,
   "id": "dfc01c23cd540179",
   "metadata": {},
   "outputs": [],
   "source": [
    "# Question 4.2.c.\n",
    "\n",
    "def demodulate(received):\n",
    "  return ''\n"
   ]
  },
  {
   "cell_type": "code",
   "execution_count": null,
   "id": "7a47e95653f23075",
   "metadata": {
    "ExecuteTime": {
     "end_time": "2025-04-18T20:53:37.229668Z",
     "start_time": "2025-04-18T20:53:37.207291Z"
    }
   },
   "outputs": [],
   "source": [
    "# solution code - delete before sending to students!\n",
    "\n",
    "def demodulate(received):\n",
    "    absolute_values = np.abs(received)\n",
    "    start_threshold = np.quantile(absolute_values, .9)\n",
    "    delay = np.nonzero(absolute_values > start_threshold)[0][0]\n",
    "    decoded = np.zeros(len(message), dtype = np.int8)\n",
    "    bit_threshold = np.mean(received[delay:]**2)/2\n",
    "    for i in range(len(decoded)):\n",
    "        start = (i * fs) // rate + delay\n",
    "        end = ((i + 1) * fs) // rate + delay\n",
    "        energy = np.mean(received[start: end] ** 2)\n",
    "        decoded[i] = 1 if (energy > bit_threshold) else 0\n",
    "    return decoded\n",
    "\n",
    "demodulated = demodulate(y_filtered)\n",
    "np.sum(demodulated != message) / message.size"
   ]
  },
  {
   "cell_type": "markdown",
   "id": "5eaf03c31bb0671a",
   "metadata": {},
   "source": [
    "<span style=\"background-color: #8C1515; font-weight: bold; color: white;\">Question 4.4.</span> How did you end up choosing your filter cutoff frequencies? Explain your thinking.\n",
    "\n",
    "_WHAT WE EXPECT:_ a short answer with 1-2 sentences."
   ]
  },
  {
   "cell_type": "markdown",
   "id": "5f37a7881d1e6825",
   "metadata": {},
   "source": [
    "> YOUR ANSWER HERE"
   ]
  },
  {
   "cell_type": "markdown",
   "id": "c6d7ce7775352ebc",
   "metadata": {},
   "source": [
    "> You can look at spectrum of the noisy signal determine which parts of frequencies to zero-out to eliminate the voice interference. Alternatively, you can deterimine the cut-off frequencies from what we learned from the lecture: $$[f_{\\text{min}}, f_{\\text{max}}] = [f_c - f_{\\text{data}}, f_c + f_{\\text{data}}],$$\n",
    "> where $ f_{\\text{data}} $ is the data rate."
   ]
  },
  {
   "cell_type": "markdown",
   "id": "58bd6392828501f9",
   "metadata": {},
   "source": [
    "## Part 5: Frequency-division multiplexing\n",
    "\n",
    "Filtering also gives rise to using several carrier frequencies, each in different passbands, dividing up the spectrum into parts, like this:\n",
    "\n",
    "<p style=\"text-align: center;\">\n",
    "    <img src=\"img/freq_bands.png\" style=\"max-height: 192px;\" alt=\"frequency bands\" />\n",
    "</p>\n",
    "\n",
    "This strategy is sometimes known as **frequency-division multiplexing**. To \"multiplex\" means to divide a shared resource among several streams of information; in this case, that resource is the frequency spectrum. Essentially, we will take your work from Project 2c (including the error-correcting code), and run it several times in parallel—but modulating to different carrier frequencies, say, $f_{c1}, f_{c2}, f_{c3}$. We add the several signals together just before transmission, and then at the receiver, the bandpass filters can separate the several streams for demodulation and decoding.\n",
    "\n",
    "<p style=\"text-align: center;\">\n",
    "    <img src=\"img/multiplex_system.png\" style=\"max-height: 212px;\" alt=\"block diagram of multiplexed system\" />\n",
    "</p>\n",
    "\n",
    "<div class=\"alert alert-info\">\n",
    "    <strong>Abbreviations.</strong> It's common in communications engineering to use <em>tx</em> as an abbreviation for transmit, and <em>rx</em> as an abbreviation for receive.\n",
    "</div>\n",
    "\n",
    "<div class=\"alert alert-info\">\n",
    "    <p><strong>Where is this used?</strong> Most modern communication systems use this concept.</p>\n",
    "    <ul>\n",
    "        <li><strong>Wi-Fi</strong> divides the spectrums near 2.4 GHz or 5 GHz into a number of \"channels\", and Wi-Fi devices choose one, hopefully with relatively few other users on it.</li>\n",
    "        <li><strong>FM radio</strong> and other forms of wireless broadcasting, including TV in some regions, use this to permit different channels to broadcast in the same area.</li>\n",
    "        <li><strong>Fiber-optic cables</strong> use different wavelengths (colors) of light simultaneously, transmitting a different stream of data on each wavelength. (In this context, it's normally called <em>wavelength-division multiplexing</em>.)</li>\n",
    "        <li><strong>DSL modems</strong> use this idea to transmit data on telephone lines without interfering with the normal (voice) operation of telephones.</li>\n",
    "    </ul>\n",
    "    <p>The principles are the same as the ones we'll study in this project.</p>\n",
    "    <p>More generally, these principles underlie the government regulation of spectrum use, which in the United States is administered by the Federal Communications Commission. Certain users are granted the right to transmit within particular frequency bands in particular regions, and others are prohibited from transmitting electromagnetic radiation on a frequency that is reserved for someone else.</p>\n",
    "</div>"
   ]
  },
  {
   "cell_type": "markdown",
   "id": "eab3f6173faf238d",
   "metadata": {},
   "source": [
    "# Analysis (5 points)\n",
    "\n",
    "<span style=\"background-color: #8C1515; font-weight: bold; color: white;\">Question A1.</span> For what kinds of noise or interference would the filtering strategy we implemented in this project _not_ be effective? What sort of coordination might be necessary if there are multiple transmitters operating in the same space?\n",
    "\n",
    "_WHAT WE EXPECT:_ a paragraph explaining your thoughts."
   ]
  },
  {
   "cell_type": "markdown",
   "id": "a41f370114bb3902",
   "metadata": {},
   "source": [
    "> YOUR ANSWER HERE"
   ]
  },
  {
   "cell_type": "markdown",
   "id": "84109b3c164abd8f",
   "metadata": {},
   "source": [
    "> If there was interference/noise of the same frequency range, the filtering strategy would do little to be helpful. If there is a chance of noise in the same area, the two groups should choose different carrier frequencies to transmit their respective signals. Doing so would not corrupt their signal, but rather allow for each to be able to decode their own on seperate filters."
   ]
  },
  {
   "cell_type": "markdown",
   "id": "475cfb7a4b839b77",
   "metadata": {},
   "source": [
    "<span style=\"background-color: #8C1515; font-weight: bold; color: white;\">Question A2.</span> Imagine that, instead of transmitting data from your speaker to your own microphone, you are instead running this communication system more usefully: to transmit data from your speaker to be received by a friend's microphone. Such a communication system would only work one way, though: you would be able to talk to them, but they wouldn't be able to talk to you. So you couldn't really use it to hold a \"conversation\". How could you use a similar idea to frequency multiplexing to allow\n",
    "_simultaneous two-way_ communication?\n",
    "\n",
    "_Note:_ This is also a common practice in many wireless communication systems. Simultaneous two-way communication is sometimes known as \"duplex communication\".\n",
    "\n",
    "_WHAT WE EXPECT:_ a paragraph."
   ]
  },
  {
   "cell_type": "markdown",
   "id": "192d6ebe1df57f2f",
   "metadata": {},
   "source": [
    "> YOUR ANSWER HERE"
   ]
  },
  {
   "cell_type": "markdown",
   "id": "2c0534e7697cfddc",
   "metadata": {},
   "source": [
    "> Sample solution: With Frequency Division Duplexing (FDD), we can allocate different frequency bands for each direction of communication. For instance, designate one frequency band for transmitting data from your speaker to your friend's microphone (let's call this Band A) and another distinct frequency band for transmitting data from your friend's speaker to your microphone (let's call this Band B)."
   ]
  },
  {
   "cell_type": "markdown",
   "id": "2907be2440212d1c",
   "metadata": {},
   "source": [
    "# Reflection (5 points)\n",
    "\n",
    "<span style=\"background-color: #8C1515; font-weight: bold; color: white;\">Question R1.</span> Here it is: https://forms.gle/ybs64YdGfeUC8ikV6"
   ]
  },
  {
   "cell_type": "markdown",
   "id": "3ef015a832f31014",
   "metadata": {},
   "source": [
    "# <font color=\"blue\"> Submission guidelines</font>\n",
    "\n",
    "## Export this Jupyter notebook as a PDF file\n",
    "\n",
    "- After finishing all the questions, make sure they display properly. **We suggest you NOT restart your kernel and run all the cells**; otherwise, your answer may be changed (especially for the experiment parts).\n",
    "- Save this notebook as a pdf file. Feel free to use any method for exporting the PDF, provided that the resulting document remains readable. Below are a few options:\n",
    "\n",
    "    1. We suggest the simplest approach: save the notebook as an HTML file, open it in a web browser, then right-click the page and select \"Print\" to generate a PDF.\n",
    "    2. Another way to convert your .ipynb files to .pdf is to upload the .ipynb file to Google Drive, and then double-clicking the file to open it in Google Colaboratory. You should see that all of your code and code outputs are there. **Please be sure to not run any cells on Colab, as this will overwrite your output!** You can then click File > Print, and then select Save as PDF in the print dialog.\n",
    "    3. You can also convert your notebook in the following websites:\n",
    "        - https://onlineconvertfree.com/convert/ipynb/\n",
    "        - https://2pdf.com/convert-ipynb-to-pdf/\n",
    "\n",
    "## What and where to submit\n",
    "\n",
    "Submit this Jupyter notebook  and the PDF to Gradescope. There are two portals, one for the PDF and the other for the notebook. We won't use the autograder this time, so the `.ipynb` notebook will only be used when we need to verify the correctness of your code.\n",
    "\n",
    "\n",
    "- Submit this Jupyter notebook file (as a .ipynb file) to the \"**Project 2b (jupyter-notebook)**\" assignment on Gradescope.\n",
    "- Submit the PDF to the \"**Project 2b (PDF)**\"\n",
    "- Don't forget to fill out the reflection form!\n",
    "\n",
    "\n",
    "## Grade breakdown\n",
    "\n",
    "The reflection is worth 10 points, the analysis questions are worth 10 points (between them), coding style is worth 5, and all other questions will total to 75 points. Each question will be roughly equally weighted.\n",
    "\n",
    "## Coding style and formatting (5 points)\n",
    "\n",
    "- Coding style: This isn't a development project, so we don't plan to be very particular about this. But we still have to read your code, so please try to make that reasonably painless for us. For example, please remove commented-out code and redundant variables before you submit.\n",
    "\n",
    "- Formatting: In addition to coding style, please make sure that your exported PDF is readable (for example, your submission shouldn't be a long, single-paged PDF file) and that all the questions are properly tagged. Hopefully these 5 points will be effectively free points."
   ]
  }
 ],
 "metadata": {
  "kernelspec": {
   "display_name": "Python 3 (ipykernel)",
   "language": "python",
   "name": "python3"
  },
  "language_info": {
   "codemirror_mode": {
    "name": "ipython",
    "version": 3
   },
   "file_extension": ".py",
   "mimetype": "text/x-python",
   "name": "python",
   "nbconvert_exporter": "python",
   "pygments_lexer": "ipython3",
   "version": "3.12.2"
  }
 },
 "nbformat": 4,
 "nbformat_minor": 5
}
